{
 "cells": [
  {
   "cell_type": "code",
   "execution_count": 1,
   "id": "bd7964e7-8c75-4420-a352-4b5fd138d3e0",
   "metadata": {},
   "outputs": [],
   "source": [
    "#read this data set"
   ]
  },
  {
   "cell_type": "code",
   "execution_count": 21,
   "id": "ce162160-36c9-41d3-b995-da4bdf15a0c4",
   "metadata": {},
   "outputs": [
    {
     "data": {
      "text/plain": [
       "'iknaloS lihaS si emaN yM'"
      ]
     },
     "execution_count": 21,
     "metadata": {},
     "output_type": "execute_result"
    }
   ],
   "source": [
    "# 1.Write a cod eto reverse a string \n",
    "# code \n",
    "str = \"My Name is Sahil Solanki\"\n",
    "str[::-1]\n",
    "\n"
   ]
  },
  {
   "cell_type": "code",
   "execution_count": 37,
   "id": "6b5abf6e-1624-4bfd-8c11-b28a35cf7a34",
   "metadata": {},
   "outputs": [
    {
     "name": "stdout",
     "output_type": "stream",
     "text": [
      "Number of vowels are:\n",
      "8\n"
     ]
    }
   ],
   "source": [
    "2.# Write a code to count the number of vowels in a string\n",
    "# code\n",
    "vowels=0\n",
    "for i in str:\n",
    "      if(i=='a' or i=='e' or i=='i' or i=='o' or i=='u' or i=='A' or i=='E' or i=='I' or i=='O' or i=='U'):\n",
    "            vowels=vowels+1\n",
    "print(\"Number of vowels are:\")\n",
    "print(vowels)"
   ]
  },
  {
   "cell_type": "code",
   "execution_count": 39,
   "id": "d98d9f5d-f8f7-4d65-87a4-3db63e98bb73",
   "metadata": {},
   "outputs": [
    {
     "data": {
      "text/plain": [
       "'iknaloS lihaS si emaN yM'"
      ]
     },
     "execution_count": 39,
     "metadata": {},
     "output_type": "execute_result"
    }
   ],
   "source": [
    "3.# Write a code to check if a given string is a palindrome or not"
   ]
  },
  {
   "cell_type": "code",
   "execution_count": 44,
   "id": "1a28d145-88ca-4f28-b938-698941918772",
   "metadata": {},
   "outputs": [
    {
     "name": "stdout",
     "output_type": "stream",
     "text": [
      "The string is not a palindrome.\n"
     ]
    }
   ],
   "source": [
    "#code\n",
    "if (str) == (str[::-1]):\n",
    "   print(\"The string is a palindrome.\")\n",
    "else:\n",
    "   print(\"The string is not a palindrome.\")"
   ]
  },
  {
   "cell_type": "code",
   "execution_count": null,
   "id": "8c29b054-ade6-4a2d-91d4-72255f54f4eb",
   "metadata": {},
   "outputs": [],
   "source": [
    "4. #Write a code to check if two given strings are anagrams of each other"
   ]
  },
  {
   "cell_type": "code",
   "execution_count": 47,
   "id": "890c7d45-37bf-4b7b-8dae-f39ee130a324",
   "metadata": {},
   "outputs": [
    {
     "name": "stdout",
     "output_type": "stream",
     "text": [
      "This is anagrams\n"
     ]
    }
   ],
   "source": [
    "#code\n",
    "str1 = 'listen'\n",
    "str2 = 'silent'\n",
    "if sorted(str1) == sorted(str2):\n",
    "    print('This is anagrams')\n",
    "else:\n",
    "    print('This is not a anagrams')\n"
   ]
  },
  {
   "cell_type": "code",
   "execution_count": null,
   "id": "ca763bee-1b4f-4630-953e-a9ad9bdae3b8",
   "metadata": {},
   "outputs": [],
   "source": [
    "5.# Write a code to find all occurrences of a given substring within another string"
   ]
  },
  {
   "cell_type": "code",
   "execution_count": null,
   "id": "b0b8489c-4de3-40b8-a145-ceec51e30705",
   "metadata": {},
   "outputs": [],
   "source": [
    "#code\n"
   ]
  },
  {
   "cell_type": "code",
   "execution_count": null,
   "id": "e29eee9a-8fd6-4d00-a7a4-888a1e4e96fb",
   "metadata": {},
   "outputs": [],
   "source": [
    "6.# Write a code to perform basic string compression using the counts of repeated characters"
   ]
  },
  {
   "cell_type": "code",
   "execution_count": 15,
   "id": "127a6f1e-7903-484c-8013-6c49282c175e",
   "metadata": {},
   "outputs": [
    {
     "name": "stdin",
     "output_type": "stream",
     "text": [
      "Enter a string:  sahuk\n"
     ]
    },
    {
     "name": "stdout",
     "output_type": "stream",
     "text": [
      "The string has all unique characters.\n"
     ]
    }
   ],
   "source": [
    "#code\n",
    "def has_all_unique_characters(input_string):\n",
    "    # Create a set to store unique characters\n",
    "    char_set = set()\n",
    "    for char in input_string:\n",
    "        if char in char_set:\n",
    "            return False\n",
    "        char_set.add(char)\n",
    "    return True\n",
    "\n",
    "# Input: string\n",
    "input_string = input(\"Enter a string: \")\n",
    "\n",
    "# Check and print if the string has all unique characters\n",
    "if has_all_unique_characters(input_string):\n",
    "    print(\"The string has all unique characters.\")\n",
    "else:\n",
    "    print(\"The string does not have all unique characters\")\n"
   ]
  },
  {
   "cell_type": "code",
   "execution_count": null,
   "id": "dc3df821-5089-4dbb-a4dd-f6b216242230",
   "metadata": {},
   "outputs": [],
   "source": [
    "7.# Write a code to determine if a string has all unique characters"
   ]
  },
  {
   "cell_type": "code",
   "execution_count": 2,
   "id": "e4b8b878-98f3-483e-9955-d76e3684759d",
   "metadata": {},
   "outputs": [
    {
     "name": "stdout",
     "output_type": "stream",
     "text": [
      "True\n",
      "False\n"
     ]
    }
   ],
   "source": [
    "#code\n",
    "def has_unique_characters(s):\n",
    "    seen_chars = set()\n",
    "    for char in s:\n",
    "        if char in seen_chars:\n",
    "            return False\n",
    "        seen_chars.add(char)\n",
    "    return True\n",
    "\n",
    "# Example usage:\n",
    "input_string = \"abcdefg\"\n",
    "print(has_unique_characters(input_string))  # Output: True\n",
    "\n",
    "input_string = \"aabcdefg\"\n",
    "print(has_unique_characters(input_string))  # Output: False\n",
    "\n"
   ]
  },
  {
   "cell_type": "code",
   "execution_count": null,
   "id": "e8c8e0c5-e21e-41ef-99ee-386db8c54b4d",
   "metadata": {},
   "outputs": [],
   "source": [
    "8.#Write a code to convert a given string to uppercase or lowercase"
   ]
  },
  {
   "cell_type": "code",
   "execution_count": 51,
   "id": "c82dfff7-daf4-4c1e-910b-f52078615c81",
   "metadata": {},
   "outputs": [
    {
     "data": {
      "text/plain": [
       "'INDIA IS A DEMOCRATIC COUNTRY'"
      ]
     },
     "execution_count": 51,
     "metadata": {},
     "output_type": "execute_result"
    }
   ],
   "source": [
    "#code\n",
    "text = 'India is a democratic country'\n",
    "text.upper()"
   ]
  },
  {
   "cell_type": "code",
   "execution_count": 52,
   "id": "aa430798-cec5-4018-8b03-d1725bb77906",
   "metadata": {},
   "outputs": [
    {
     "data": {
      "text/plain": [
       "'india is a democratic country'"
      ]
     },
     "execution_count": 52,
     "metadata": {},
     "output_type": "execute_result"
    }
   ],
   "source": [
    "text.lower()"
   ]
  },
  {
   "cell_type": "code",
   "execution_count": null,
   "id": "286b1881-4d11-4614-99a0-d486ee103384",
   "metadata": {},
   "outputs": [],
   "source": [
    "9.# Write a code to count the number of words in a string"
   ]
  },
  {
   "cell_type": "code",
   "execution_count": 70,
   "id": "c41426a1-6229-4203-8d06-57e7a89c5017",
   "metadata": {},
   "outputs": [
    {
     "data": {
      "text/plain": [
       "6"
      ]
     },
     "execution_count": 70,
     "metadata": {},
     "output_type": "execute_result"
    }
   ],
   "source": [
    "#code\n",
    "\n",
    "string = \"Hello, this is a sample string.\"\n",
    "count_words(string)\n",
    "count_word\n",
    "\n",
    "                        "
   ]
  },
  {
   "cell_type": "code",
   "execution_count": null,
   "id": "1f098a60-973f-42b2-9a69-9720ed4caa2a",
   "metadata": {},
   "outputs": [],
   "source": [
    "10.# Write a code to concatenate two strings without using the + operator"
   ]
  },
  {
   "cell_type": "code",
   "execution_count": null,
   "id": "eb6a589d-bc60-47ee-b65b-449b3138a26b",
   "metadata": {},
   "outputs": [],
   "source": [
    "#code"
   ]
  },
  {
   "cell_type": "code",
   "execution_count": 81,
   "id": "4271c246-9990-4796-9e30-8d453dd9e00e",
   "metadata": {},
   "outputs": [
    {
     "data": {
      "text/plain": [
       "'MumbaiBanglore'"
      ]
     },
     "execution_count": 81,
     "metadata": {},
     "output_type": "execute_result"
    }
   ],
   "source": [
    "string1 = 'Mumbai'\n",
    "string2 = 'Banglore'\n",
    "concatenate_strings = (string1 + string2)\n",
    "concatenate_strings"
   ]
  },
  {
   "cell_type": "code",
   "execution_count": null,
   "id": "ad9e2583-89fa-4032-8260-ff93620142a5",
   "metadata": {},
   "outputs": [],
   "source": [
    "11.# Write a code to remove all occurrences of a specific element from a list"
   ]
  },
  {
   "cell_type": "code",
   "execution_count": 87,
   "id": "8ebf7378-f428-4121-b78c-75e26e3771ad",
   "metadata": {},
   "outputs": [
    {
     "data": {
      "text/plain": [
       "[1, 3, 4, 5]"
      ]
     },
     "execution_count": 87,
     "metadata": {},
     "output_type": "execute_result"
    }
   ],
   "source": [
    "#code\n",
    "x = [1, 2, 3, 4, 2, 5, 2]\n",
    "[i for i in x if i != 2]\n"
   ]
  },
  {
   "cell_type": "code",
   "execution_count": null,
   "id": "768cbfa2-9d60-49ed-8bcf-acab48bfdb15",
   "metadata": {},
   "outputs": [],
   "source": [
    "12.# Implement a code to find the second largest number in a given list of integers"
   ]
  },
  {
   "cell_type": "code",
   "execution_count": 5,
   "id": "3217dcf7-878a-4d26-b51b-eef8fe340c98",
   "metadata": {},
   "outputs": [],
   "source": [
    "#code\n",
    "list1 = [ 10, 30, 40, 80, 90]\n",
    "list1.remove(max(list1))"
   ]
  },
  {
   "cell_type": "code",
   "execution_count": 8,
   "id": "0e2632a5-5161-42fb-a8ca-f14d734bda3b",
   "metadata": {},
   "outputs": [
    {
     "data": {
      "text/plain": [
       "[10, 30, 40, 80]"
      ]
     },
     "execution_count": 8,
     "metadata": {},
     "output_type": "execute_result"
    }
   ],
   "source": [
    "list1"
   ]
  },
  {
   "cell_type": "code",
   "execution_count": 10,
   "id": "ae097171-8d81-4738-b4ea-4209de2c6523",
   "metadata": {},
   "outputs": [
    {
     "name": "stdout",
     "output_type": "stream",
     "text": [
      "80\n"
     ]
    }
   ],
   "source": [
    "print(max(list1))"
   ]
  },
  {
   "cell_type": "code",
   "execution_count": null,
   "id": "d8d1bf8f-80e3-41c6-9b8d-c63ef9503d9a",
   "metadata": {},
   "outputs": [],
   "source": [
    "13. #Create a code to count the occurrences of each element in a list and return a dictionary with elements as \n",
    "#keys and their counts as values."
   ]
  },
  {
   "cell_type": "code",
   "execution_count": 17,
   "id": "a49923aa-a652-476b-8d0c-19e415eb60d9",
   "metadata": {},
   "outputs": [
    {
     "name": "stdout",
     "output_type": "stream",
     "text": [
      "the element 2 occurs 3 times\n"
     ]
    }
   ],
   "source": [
    "l = [1, 1, 2, 2, 2, 3, 3, 4, 4, 5, 5] \n",
    "ele=2\n",
    "x=[i for i in l if i==ele] \n",
    "print(\"the element\",ele,\"occurs\",len(x),\"times\")"
   ]
  },
  {
   "cell_type": "code",
   "execution_count": 18,
   "id": "dfb05217-7979-49a4-94b4-9310c3d75149",
   "metadata": {},
   "outputs": [],
   "source": [
    "#from the above code we can easily find the occurences of each element just have to put nubmer in the place of ele="
   ]
  },
  {
   "cell_type": "code",
   "execution_count": null,
   "id": "9dbd9508-efb8-499d-bc5f-e2515dc0e2b4",
   "metadata": {},
   "outputs": [],
   "source": [
    "14. #Write a code to reverse a list in-place without using any built-in reverse functions"
   ]
  },
  {
   "cell_type": "code",
   "execution_count": 24,
   "id": "6606eb17-c17e-4ad7-9a48-b72bc7ca25a1",
   "metadata": {},
   "outputs": [
    {
     "data": {
      "text/plain": [
       "['boolean', 100, 4.5, True, 10]"
      ]
     },
     "execution_count": 24,
     "metadata": {},
     "output_type": "execute_result"
    }
   ],
   "source": [
    "list2 = [10, True, 4.5, 100, \"boolean\"]\n",
    "list2 [::-1]"
   ]
  },
  {
   "cell_type": "code",
   "execution_count": null,
   "id": "aa474fe1-783e-4525-bc92-d6097907c9bb",
   "metadata": {},
   "outputs": [],
   "source": [
    "15.#Implement a code to find and remove duplicates from a list while preserving the original order of \n",
    "#elements"
   ]
  },
  {
   "cell_type": "code",
   "execution_count": 33,
   "id": "f9161c2f-e7f5-4774-928e-964bde164c9f",
   "metadata": {},
   "outputs": [
    {
     "name": "stdout",
     "output_type": "stream",
     "text": [
      "[1, 2, 3, 4, 5, 6, 7]\n"
     ]
    }
   ],
   "source": [
    " def remove_duplicates(input_list):\n",
    "    seen = set()\n",
    "    result = []\n",
    "    for item in input_list:\n",
    "        if item not in seen:\n",
    "            seen.add(item)\n",
    "            result.append(item)\n",
    "    return result\n",
    "input_list = [1, 2, 3, 2, 1, 4, 5, 3, 6, 4, 7]\n",
    "output_list = remove_duplicates(input_list)\n",
    "print(output_list) \n"
   ]
  },
  {
   "cell_type": "code",
   "execution_count": null,
   "id": "4837a92b-30d3-4ccd-95df-6fefad747192",
   "metadata": {},
   "outputs": [],
   "source": [
    "16.# Create a code to check if a given list is sorted (either in ascending or descending order) or not"
   ]
  },
  {
   "cell_type": "code",
   "execution_count": 4,
   "id": "f33ed8a8-2ce5-4c3a-9c83-6db0d9f660f8",
   "metadata": {},
   "outputs": [
    {
     "name": "stdout",
     "output_type": "stream",
     "text": [
      "True\n",
      "True\n",
      "False\n"
     ]
    }
   ],
   "source": [
    "def is_sorted(lst):\n",
    "    if len(lst) <= 1:\n",
    "        return True\n",
    "\n",
    "    # Check for ascending order\n",
    "    ascending = all(lst[i] <= lst[i + 1] for i in range(len(lst) - 1))\n",
    "    # Check for descending order\n",
    "    descending = all(lst[i] >= lst[i + 1] for i in range(len(lst) - 1))\n",
    "\n",
    "    return ascending or descending\n",
    "list1 = [1, 2, 3, 4, 5]\n",
    "list2 = [5, 4, 3, 2, 1]\n",
    "list3 = [1, 3, 2, 4, 5]\n",
    "\n",
    "print(is_sorted(list1))  \n",
    "print(is_sorted(list2))  \n",
    "print(is_sorted(list3)) \n"
   ]
  },
  {
   "cell_type": "code",
   "execution_count": null,
   "id": "ea7d9f90-e8fc-457c-8ba7-f615653bc526",
   "metadata": {},
   "outputs": [],
   "source": [
    "17.# Write a code to merge two sorted lists into a single sorted list"
   ]
  },
  {
   "cell_type": "code",
   "execution_count": null,
   "id": "45772d30-eb0e-4380-beb9-b579647e8076",
   "metadata": {},
   "outputs": [],
   "source": [
    "18. #Implement a code to find the intersection of two given lists"
   ]
  },
  {
   "cell_type": "code",
   "execution_count": 11,
   "id": "4e12d2cd-b8e6-4e04-91e0-2f1a1359651a",
   "metadata": {},
   "outputs": [
    {
     "name": "stdout",
     "output_type": "stream",
     "text": [
      "[2, 3]\n"
     ]
    }
   ],
   "source": [
    "def intersection(list1, list2):\n",
    "    # Convert lists to sets to remove duplicates\n",
    "    set1 = set(list1)\n",
    "    set2 = set(list2)\n",
    "    \n",
    "    # Find the intersection of the two sets\n",
    "    intersected_set = set1.intersection(set2)\n",
    "    \n",
    "    # Convert the set back to a list\n",
    "    return list(intersected_set)\n",
    "list1 = [1, 2, 2, 3, 4]\n",
    "list2 = [2, 3, 5, 6]\n",
    "\n",
    "result = intersection(list1, list2)\n",
    "print(result)  # Output: [2, 3]\n"
   ]
  },
  {
   "cell_type": "code",
   "execution_count": null,
   "id": "b87955cb-3743-4533-a4b0-e203c46d7112",
   "metadata": {},
   "outputs": [],
   "source": [
    "19. # Create a code to find the union of two lists without duplicates."
   ]
  },
  {
   "cell_type": "code",
   "execution_count": 12,
   "id": "eaad6966-7162-42e6-ade0-57252b50403c",
   "metadata": {},
   "outputs": [
    {
     "name": "stdout",
     "output_type": "stream",
     "text": [
      "[1, 2, 3, 4, 5, 6]\n"
     ]
    }
   ],
   "source": [
    "def union(list1, list2):\n",
    "    # Convert lists to sets to remove duplicates\n",
    "    set1 = set(list1)\n",
    "    set2 = set(list2)\n",
    "    \n",
    "    # Find the union of the two sets\n",
    "    union_set = set1.union(set2)\n",
    "    \n",
    "    # Convert the set back to a list\n",
    "    return list(union_set)\n",
    "\n",
    "# Example\n",
    "list1 = [1, 2, 2, 3, 4]\n",
    "list2 = [3, 4, 5, 6]\n",
    "\n",
    "result = union(list1, list2)\n",
    "print(result) \n"
   ]
  },
  {
   "cell_type": "code",
   "execution_count": null,
   "id": "3a5ba350-e63f-4cea-a307-bb73673646fa",
   "metadata": {},
   "outputs": [],
   "source": [
    "20.#Write a code to shuffle a given list randomly without using any built-in shuffle functions."
   ]
  },
  {
   "cell_type": "code",
   "execution_count": 1,
   "id": "c10a0349-ad69-4106-a998-4542b79c04a5",
   "metadata": {},
   "outputs": [
    {
     "name": "stdout",
     "output_type": "stream",
     "text": [
      "[3, 1, 2, 5, 4]\n"
     ]
    }
   ],
   "source": [
    "import random\n",
    "\n",
    "def custom_shuffle(lst):\n",
    "    n = len(lst)\n",
    "    for i in range(n-1, 0, -1):\n",
    "        j = random.randint(0, i)\n",
    "        lst[i], lst[j] = lst[j], lst[i]\n",
    "\n",
    "my_list = [1, 2, 3, 4, 5]\n",
    "custom_shuffle(my_list)\n",
    "print(my_list)\n"
   ]
  },
  {
   "cell_type": "code",
   "execution_count": 4,
   "id": "7892cbf7-7db6-4203-8fbd-fa0afbcdcfb7",
   "metadata": {},
   "outputs": [
    {
     "name": "stdout",
     "output_type": "stream",
     "text": [
      "(4, 5)\n"
     ]
    }
   ],
   "source": [
    "21. # Write a code that takes two tuples as input and returns a new tuple containing elements that are \n",
    "    #common to both input tuples\n",
    "def common_elements(tuple1, tuple2):\n",
    "    set1 = set(tuple1)\n",
    "    set2 = set(tuple2)\n",
    "    common_set = set1.intersection(set2)\n",
    "    return tuple(common_set)\n",
    "\n",
    "tuple1 = (1, 2, 3, 4, 5)\n",
    "tuple2 = (4, 5, 6, 7, 8)\n",
    "result = common_elements(tuple1, tuple2)\n",
    "print(result)  \n"
   ]
  },
  {
   "cell_type": "code",
   "execution_count": 6,
   "id": "79d3d137-ec31-40c2-86c2-64316bfa5bae",
   "metadata": {},
   "outputs": [
    {
     "name": "stdin",
     "output_type": "stream",
     "text": [
      "Enter the first set of integers separated by commas:  1, 2, 3, 4, 5\n",
      "Enter the second set of integers separated by commas:  4, 5, 6, 7, 8\n"
     ]
    },
    {
     "name": "stdout",
     "output_type": "stream",
     "text": [
      "The intersection of the two sets is: {4, 5}\n"
     ]
    }
   ],
   "source": [
    "22. #Create a code that prompts the user to enter two sets of integers separated by commas. Then, print the \n",
    "    #intersection of these two sets\n",
    "def get_set_from_input(prompt):\n",
    "    user_input = input(prompt)\n",
    "    # Split the input string by commas, strip spaces, and convert to integers\n",
    "    return set(map(int, user_input.split(',')))\n",
    "\n",
    "# Prompt the user for two sets of integers\n",
    "set1 = get_set_from_input(\"Enter the first set of integers separated by commas: \")\n",
    "set2 = get_set_from_input(\"Enter the second set of integers separated by commas: \")\n",
    "\n",
    "intersection = set1.intersection(set2)\n",
    "print(\"The intersection of the two sets is:\", intersection)\n"
   ]
  },
  {
   "cell_type": "code",
   "execution_count": 8,
   "id": "ee659e57-fb5a-46c4-ab2f-f2d816f10aa3",
   "metadata": {},
   "outputs": [
    {
     "name": "stdout",
     "output_type": "stream",
     "text": [
      "(1, 2, 3, 4, 5, 6)\n"
     ]
    }
   ],
   "source": [
    "23. #23. Write a code to concatenate two tuples. The function should take two tuples as input and return a new \n",
    "   #tuple containing elements from both input tuples.\n",
    "def concatenate_tuples(tuple1, tuple2):\n",
    "    return tuple1 + tuple2\n",
    "tuple1 = (1, 2, 3)\n",
    "tuple2 = (4, 5, 6)\n",
    "result = concatenate_tuples(tuple1, tuple2)\n",
    "print(result)  # Output: (1, 2, 3, 4, 5, 6)\n"
   ]
  },
  {
   "cell_type": "code",
   "execution_count": 9,
   "id": "b10b12fb-d8fd-4c5f-bbbd-89e3ac388f21",
   "metadata": {},
   "outputs": [
    {
     "name": "stdout",
     "output_type": "stream",
     "text": [
      "Enter elements of the first set separated by spaces:\n"
     ]
    },
    {
     "name": "stdin",
     "output_type": "stream",
     "text": [
      " 10\n"
     ]
    },
    {
     "name": "stdout",
     "output_type": "stream",
     "text": [
      "Enter elements of the second set separated by spaces:\n"
     ]
    },
    {
     "name": "stdin",
     "output_type": "stream",
     "text": [
      " 20\n"
     ]
    },
    {
     "name": "stdout",
     "output_type": "stream",
     "text": [
      "Elements present in the first set but not in the second set:\n",
      "10\n"
     ]
    }
   ],
   "source": [
    "24. #Develop a code that prompts the user to input two sets of strings. Then, print the elements that are \n",
    "    #present in the first set but not in the second set\n",
    "    # Function to input a set of strings\n",
    "def input_set(prompt):\n",
    "    print(prompt)\n",
    "    return set(input().split())\n",
    "\n",
    "# Input two sets from the user\n",
    "set1 = input_set(\"Enter elements of the first set separated by spaces:\")\n",
    "set2 = input_set(\"Enter elements of the second set separated by spaces:\")\n",
    "\n",
    "difference = set1 - set2\n",
    "\n",
    "# Print the result\n",
    "print(\"Elements present in the first set but not in the second set:\")\n",
    "for element in difference:\n",
    "    print(element)\n",
    "\n",
    "    "
   ]
  },
  {
   "cell_type": "code",
   "execution_count": 11,
   "id": "e81de561-e4b3-40d5-b126-6551c19be5e1",
   "metadata": {},
   "outputs": [],
   "source": [
    "#25. & Create a code that takes a tuple and two integers as input. The function should return a new tuple \n",
    "   #containing elements from the original tuple within the specified range of indices"
   ]
  },
  {
   "cell_type": "code",
   "execution_count": 12,
   "id": "8a4327c4-f233-4296-8d60-23ffc54edc55",
   "metadata": {},
   "outputs": [
    {
     "name": "stdout",
     "output_type": "stream",
     "text": [
      "Enter characters for the first set separated by spaces:\n"
     ]
    },
    {
     "name": "stdin",
     "output_type": "stream",
     "text": [
      " 12\n"
     ]
    },
    {
     "name": "stdout",
     "output_type": "stream",
     "text": [
      "Enter characters for the second set separated by spaces:\n"
     ]
    },
    {
     "name": "stdin",
     "output_type": "stream",
     "text": [
      " 124\n"
     ]
    },
    {
     "name": "stdout",
     "output_type": "stream",
     "text": [
      "Union of the two sets:\n",
      "124\n",
      "12\n"
     ]
    }
   ],
   "source": [
    "#26.\n",
    "def input_set(prompt):\n",
    "    print(prompt)\n",
    "    return set(input().split())\n",
    "\n",
    "# Input two sets from the user\n",
    "set1 = input_set(\"Enter characters for the first set separated by spaces:\")\n",
    "set2 = input_set(\"Enter characters for the second set separated by spaces:\")\n",
    "\n",
    "# Calculate the union of the sets\n",
    "union_set = set1.union(set2)\n",
    "\n",
    "print(\"Union of the two sets:\")\n",
    "for character in union_set:\n",
    "    print(character)\n"
   ]
  },
  {
   "cell_type": "code",
   "execution_count": 13,
   "id": "d2ea189d-8b38-466e-9807-64cb95c7d6b4",
   "metadata": {},
   "outputs": [
    {
     "name": "stdout",
     "output_type": "stream",
     "text": [
      "Enter integers for the first set separated by spaces:\n"
     ]
    },
    {
     "name": "stdin",
     "output_type": "stream",
     "text": [
      " 75\n"
     ]
    },
    {
     "name": "stdout",
     "output_type": "stream",
     "text": [
      "Enter integers for the second set separated by spaces:\n"
     ]
    },
    {
     "name": "stdin",
     "output_type": "stream",
     "text": [
      " 65\n"
     ]
    },
    {
     "name": "stdout",
     "output_type": "stream",
     "text": [
      "Union of the two sets: {65, 75}\n",
      "Intersection of the two sets: set()\n",
      "Difference of the first set from the second set: {75}\n"
     ]
    }
   ],
   "source": [
    "#28.Create a code that defines two sets of integers. Then, print the union, intersection, and difference of these two sets\n",
    "# Function to input a set of integers\n",
    "def input_set(prompt):\n",
    "    print(prompt)\n",
    "    return set(map(int, input().split()))\n",
    "\n",
    "# Input two sets from the user\n",
    "set1 = input_set(\"Enter integers for the first set separated by spaces:\")\n",
    "set2 = input_set(\"Enter integers for the second set separated by spaces:\")\n",
    "\n",
    "# Calculate the union, intersection, and difference\n",
    "union_set = set1.union(set2)\n",
    "intersection_set = set1.intersection(set2)\n",
    "difference_set = set1.difference(set2)\n",
    "\n",
    "print(\"Union of the two sets:\", union_set)\n",
    "print(\"Intersection of the two sets:\", intersection_set)\n",
    "print(\"Difference of the first set from the second set:\", difference_set)\n"
   ]
  },
  {
   "cell_type": "code",
   "execution_count": null,
   "id": "2043e755-b1d9-41b9-a55c-ace5f703cce8",
   "metadata": {},
   "outputs": [],
   "source": []
  }
 ],
 "metadata": {
  "kernelspec": {
   "display_name": "Python 3 (ipykernel)",
   "language": "python",
   "name": "python3"
  },
  "language_info": {
   "codemirror_mode": {
    "name": "ipython",
    "version": 3
   },
   "file_extension": ".py",
   "mimetype": "text/x-python",
   "name": "python",
   "nbconvert_exporter": "python",
   "pygments_lexer": "ipython3",
   "version": "3.10.8"
  }
 },
 "nbformat": 4,
 "nbformat_minor": 5
}
